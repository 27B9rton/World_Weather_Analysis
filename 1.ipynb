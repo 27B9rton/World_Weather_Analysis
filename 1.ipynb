{
 "cells": [
  {
   "cell_type": "code",
   "execution_count": 5,
   "id": "ae90215a",
   "metadata": {},
   "outputs": [],
   "source": [
    "weather_api_key = \"3470a50d30fec23bc6540bc20f742ac5\""
   ]
  },
  {
   "cell_type": "code",
   "execution_count": null,
   "id": "e2729f55",
   "metadata": {},
   "outputs": [],
   "source": []
  }
 ],
 "metadata": {
  "kernelspec": {
   "display_name": "PythonData",
   "language": "python",
   "name": "pythondata"
  },
  "language_info": {
   "codemirror_mode": {
    "name": "ipython",
    "version": 3
   },
   "file_extension": ".py",
   "mimetype": "text/x-python",
   "name": "python",
   "nbconvert_exporter": "python",
   "pygments_lexer": "ipython3",
   "version": "3.9.12"
  }
 },
 "nbformat": 4,
 "nbformat_minor": 5
}
